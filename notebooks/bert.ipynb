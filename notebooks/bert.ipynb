{
  "cells": [
    {
      "cell_type": "code",
      "execution_count": null,
      "metadata": {
        "colab": {
          "base_uri": "https://localhost:8080/"
        },
        "id": "OAzxGHUscLiz",
        "outputId": "80830aeb-4a37-474d-8093-4323b0db6f89"
      },
      "outputs": [
        {
          "name": "stdout",
          "output_type": "stream",
          "text": [
            "Looking in indexes: https://pypi.org/simple, https://us-python.pkg.dev/colab-wheels/public/simple/\n",
            "Requirement already satisfied: tensorflow_hub in /usr/local/lib/python3.10/dist-packages (0.13.0)\n",
            "Requirement already satisfied: numpy>=1.12.0 in /usr/local/lib/python3.10/dist-packages (from tensorflow_hub) (1.22.4)\n",
            "Requirement already satisfied: protobuf>=3.19.6 in /usr/local/lib/python3.10/dist-packages (from tensorflow_hub) (3.20.3)\n",
            "Looking in indexes: https://pypi.org/simple, https://us-python.pkg.dev/colab-wheels/public/simple/\n",
            "Requirement already satisfied: tensorflow_text in /usr/local/lib/python3.10/dist-packages (2.12.1)\n",
            "Requirement already satisfied: tensorflow-hub>=0.8.0 in /usr/local/lib/python3.10/dist-packages (from tensorflow_text) (0.13.0)\n",
            "Requirement already satisfied: tensorflow<2.13,>=2.12.0 in /usr/local/lib/python3.10/dist-packages (from tensorflow_text) (2.12.0)\n",
            "Requirement already satisfied: absl-py>=1.0.0 in /usr/local/lib/python3.10/dist-packages (from tensorflow<2.13,>=2.12.0->tensorflow_text) (1.4.0)\n",
            "Requirement already satisfied: astunparse>=1.6.0 in /usr/local/lib/python3.10/dist-packages (from tensorflow<2.13,>=2.12.0->tensorflow_text) (1.6.3)\n",
            "Requirement already satisfied: flatbuffers>=2.0 in /usr/local/lib/python3.10/dist-packages (from tensorflow<2.13,>=2.12.0->tensorflow_text) (23.3.3)\n",
            "Requirement already satisfied: gast<=0.4.0,>=0.2.1 in /usr/local/lib/python3.10/dist-packages (from tensorflow<2.13,>=2.12.0->tensorflow_text) (0.4.0)\n",
            "Requirement already satisfied: google-pasta>=0.1.1 in /usr/local/lib/python3.10/dist-packages (from tensorflow<2.13,>=2.12.0->tensorflow_text) (0.2.0)\n",
            "Requirement already satisfied: grpcio<2.0,>=1.24.3 in /usr/local/lib/python3.10/dist-packages (from tensorflow<2.13,>=2.12.0->tensorflow_text) (1.54.0)\n",
            "Requirement already satisfied: h5py>=2.9.0 in /usr/local/lib/python3.10/dist-packages (from tensorflow<2.13,>=2.12.0->tensorflow_text) (3.8.0)\n",
            "Requirement already satisfied: jax>=0.3.15 in /usr/local/lib/python3.10/dist-packages (from tensorflow<2.13,>=2.12.0->tensorflow_text) (0.4.10)\n",
            "Requirement already satisfied: keras<2.13,>=2.12.0 in /usr/local/lib/python3.10/dist-packages (from tensorflow<2.13,>=2.12.0->tensorflow_text) (2.12.0)\n",
            "Requirement already satisfied: libclang>=13.0.0 in /usr/local/lib/python3.10/dist-packages (from tensorflow<2.13,>=2.12.0->tensorflow_text) (16.0.0)\n",
            "Requirement already satisfied: numpy<1.24,>=1.22 in /usr/local/lib/python3.10/dist-packages (from tensorflow<2.13,>=2.12.0->tensorflow_text) (1.22.4)\n",
            "Requirement already satisfied: opt-einsum>=2.3.2 in /usr/local/lib/python3.10/dist-packages (from tensorflow<2.13,>=2.12.0->tensorflow_text) (3.3.0)\n",
            "Requirement already satisfied: packaging in /usr/local/lib/python3.10/dist-packages (from tensorflow<2.13,>=2.12.0->tensorflow_text) (23.1)\n",
            "Requirement already satisfied: protobuf!=4.21.0,!=4.21.1,!=4.21.2,!=4.21.3,!=4.21.4,!=4.21.5,<5.0.0dev,>=3.20.3 in /usr/local/lib/python3.10/dist-packages (from tensorflow<2.13,>=2.12.0->tensorflow_text) (3.20.3)\n",
            "Requirement already satisfied: setuptools in /usr/local/lib/python3.10/dist-packages (from tensorflow<2.13,>=2.12.0->tensorflow_text) (67.7.2)\n",
            "Requirement already satisfied: six>=1.12.0 in /usr/local/lib/python3.10/dist-packages (from tensorflow<2.13,>=2.12.0->tensorflow_text) (1.16.0)\n",
            "Requirement already satisfied: tensorboard<2.13,>=2.12 in /usr/local/lib/python3.10/dist-packages (from tensorflow<2.13,>=2.12.0->tensorflow_text) (2.12.2)\n",
            "Requirement already satisfied: tensorflow-estimator<2.13,>=2.12.0 in /usr/local/lib/python3.10/dist-packages (from tensorflow<2.13,>=2.12.0->tensorflow_text) (2.12.0)\n",
            "Requirement already satisfied: termcolor>=1.1.0 in /usr/local/lib/python3.10/dist-packages (from tensorflow<2.13,>=2.12.0->tensorflow_text) (2.3.0)\n",
            "Requirement already satisfied: typing-extensions>=3.6.6 in /usr/local/lib/python3.10/dist-packages (from tensorflow<2.13,>=2.12.0->tensorflow_text) (4.5.0)\n",
            "Requirement already satisfied: wrapt<1.15,>=1.11.0 in /usr/local/lib/python3.10/dist-packages (from tensorflow<2.13,>=2.12.0->tensorflow_text) (1.14.1)\n",
            "Requirement already satisfied: tensorflow-io-gcs-filesystem>=0.23.1 in /usr/local/lib/python3.10/dist-packages (from tensorflow<2.13,>=2.12.0->tensorflow_text) (0.32.0)\n",
            "Requirement already satisfied: wheel<1.0,>=0.23.0 in /usr/local/lib/python3.10/dist-packages (from astunparse>=1.6.0->tensorflow<2.13,>=2.12.0->tensorflow_text) (0.40.0)\n",
            "Requirement already satisfied: ml-dtypes>=0.1.0 in /usr/local/lib/python3.10/dist-packages (from jax>=0.3.15->tensorflow<2.13,>=2.12.0->tensorflow_text) (0.1.0)\n",
            "Requirement already satisfied: scipy>=1.7 in /usr/local/lib/python3.10/dist-packages (from jax>=0.3.15->tensorflow<2.13,>=2.12.0->tensorflow_text) (1.10.1)\n",
            "Requirement already satisfied: google-auth<3,>=1.6.3 in /usr/local/lib/python3.10/dist-packages (from tensorboard<2.13,>=2.12->tensorflow<2.13,>=2.12.0->tensorflow_text) (2.17.3)\n",
            "Requirement already satisfied: google-auth-oauthlib<1.1,>=0.5 in /usr/local/lib/python3.10/dist-packages (from tensorboard<2.13,>=2.12->tensorflow<2.13,>=2.12.0->tensorflow_text) (1.0.0)\n",
            "Requirement already satisfied: markdown>=2.6.8 in /usr/local/lib/python3.10/dist-packages (from tensorboard<2.13,>=2.12->tensorflow<2.13,>=2.12.0->tensorflow_text) (3.4.3)\n",
            "Requirement already satisfied: requests<3,>=2.21.0 in /usr/local/lib/python3.10/dist-packages (from tensorboard<2.13,>=2.12->tensorflow<2.13,>=2.12.0->tensorflow_text) (2.27.1)\n",
            "Requirement already satisfied: tensorboard-data-server<0.8.0,>=0.7.0 in /usr/local/lib/python3.10/dist-packages (from tensorboard<2.13,>=2.12->tensorflow<2.13,>=2.12.0->tensorflow_text) (0.7.0)\n",
            "Requirement already satisfied: tensorboard-plugin-wit>=1.6.0 in /usr/local/lib/python3.10/dist-packages (from tensorboard<2.13,>=2.12->tensorflow<2.13,>=2.12.0->tensorflow_text) (1.8.1)\n",
            "Requirement already satisfied: werkzeug>=1.0.1 in /usr/local/lib/python3.10/dist-packages (from tensorboard<2.13,>=2.12->tensorflow<2.13,>=2.12.0->tensorflow_text) (2.3.0)\n",
            "Requirement already satisfied: cachetools<6.0,>=2.0.0 in /usr/local/lib/python3.10/dist-packages (from google-auth<3,>=1.6.3->tensorboard<2.13,>=2.12->tensorflow<2.13,>=2.12.0->tensorflow_text) (5.3.0)\n",
            "Requirement already satisfied: pyasn1-modules>=0.2.1 in /usr/local/lib/python3.10/dist-packages (from google-auth<3,>=1.6.3->tensorboard<2.13,>=2.12->tensorflow<2.13,>=2.12.0->tensorflow_text) (0.3.0)\n",
            "Requirement already satisfied: rsa<5,>=3.1.4 in /usr/local/lib/python3.10/dist-packages (from google-auth<3,>=1.6.3->tensorboard<2.13,>=2.12->tensorflow<2.13,>=2.12.0->tensorflow_text) (4.9)\n",
            "Requirement already satisfied: requests-oauthlib>=0.7.0 in /usr/local/lib/python3.10/dist-packages (from google-auth-oauthlib<1.1,>=0.5->tensorboard<2.13,>=2.12->tensorflow<2.13,>=2.12.0->tensorflow_text) (1.3.1)\n",
            "Requirement already satisfied: urllib3<1.27,>=1.21.1 in /usr/local/lib/python3.10/dist-packages (from requests<3,>=2.21.0->tensorboard<2.13,>=2.12->tensorflow<2.13,>=2.12.0->tensorflow_text) (1.26.15)\n",
            "Requirement already satisfied: certifi>=2017.4.17 in /usr/local/lib/python3.10/dist-packages (from requests<3,>=2.21.0->tensorboard<2.13,>=2.12->tensorflow<2.13,>=2.12.0->tensorflow_text) (2022.12.7)\n",
            "Requirement already satisfied: charset-normalizer~=2.0.0 in /usr/local/lib/python3.10/dist-packages (from requests<3,>=2.21.0->tensorboard<2.13,>=2.12->tensorflow<2.13,>=2.12.0->tensorflow_text) (2.0.12)\n",
            "Requirement already satisfied: idna<4,>=2.5 in /usr/local/lib/python3.10/dist-packages (from requests<3,>=2.21.0->tensorboard<2.13,>=2.12->tensorflow<2.13,>=2.12.0->tensorflow_text) (3.4)\n",
            "Requirement already satisfied: MarkupSafe>=2.1.1 in /usr/local/lib/python3.10/dist-packages (from werkzeug>=1.0.1->tensorboard<2.13,>=2.12->tensorflow<2.13,>=2.12.0->tensorflow_text) (2.1.2)\n",
            "Requirement already satisfied: pyasn1<0.6.0,>=0.4.6 in /usr/local/lib/python3.10/dist-packages (from pyasn1-modules>=0.2.1->google-auth<3,>=1.6.3->tensorboard<2.13,>=2.12->tensorflow<2.13,>=2.12.0->tensorflow_text) (0.5.0)\n",
            "Requirement already satisfied: oauthlib>=3.0.0 in /usr/local/lib/python3.10/dist-packages (from requests-oauthlib>=0.7.0->google-auth-oauthlib<1.1,>=0.5->tensorboard<2.13,>=2.12->tensorflow<2.13,>=2.12.0->tensorflow_text) (3.2.2)\n",
            "Looking in indexes: https://pypi.org/simple, https://us-python.pkg.dev/colab-wheels/public/simple/\n",
            "Requirement already satisfied: datasets in /usr/local/lib/python3.10/dist-packages (2.12.0)\n",
            "Requirement already satisfied: numpy>=1.17 in /usr/local/lib/python3.10/dist-packages (from datasets) (1.22.4)\n",
            "Requirement already satisfied: pyarrow>=8.0.0 in /usr/local/lib/python3.10/dist-packages (from datasets) (9.0.0)\n",
            "Requirement already satisfied: dill<0.3.7,>=0.3.0 in /usr/local/lib/python3.10/dist-packages (from datasets) (0.3.6)\n",
            "Requirement already satisfied: pandas in /usr/local/lib/python3.10/dist-packages (from datasets) (1.5.3)\n",
            "Requirement already satisfied: requests>=2.19.0 in /usr/local/lib/python3.10/dist-packages (from datasets) (2.27.1)\n",
            "Requirement already satisfied: tqdm>=4.62.1 in /usr/local/lib/python3.10/dist-packages (from datasets) (4.65.0)\n",
            "Requirement already satisfied: xxhash in /usr/local/lib/python3.10/dist-packages (from datasets) (3.2.0)\n",
            "Requirement already satisfied: multiprocess in /usr/local/lib/python3.10/dist-packages (from datasets) (0.70.14)\n",
            "Requirement already satisfied: fsspec[http]>=2021.11.1 in /usr/local/lib/python3.10/dist-packages (from datasets) (2023.4.0)\n",
            "Requirement already satisfied: aiohttp in /usr/local/lib/python3.10/dist-packages (from datasets) (3.8.4)\n",
            "Requirement already satisfied: huggingface-hub<1.0.0,>=0.11.0 in /usr/local/lib/python3.10/dist-packages (from datasets) (0.15.1)\n",
            "Requirement already satisfied: packaging in /usr/local/lib/python3.10/dist-packages (from datasets) (23.1)\n",
            "Requirement already satisfied: responses<0.19 in /usr/local/lib/python3.10/dist-packages (from datasets) (0.18.0)\n",
            "Requirement already satisfied: pyyaml>=5.1 in /usr/local/lib/python3.10/dist-packages (from datasets) (6.0)\n",
            "Requirement already satisfied: attrs>=17.3.0 in /usr/local/lib/python3.10/dist-packages (from aiohttp->datasets) (23.1.0)\n",
            "Requirement already satisfied: charset-normalizer<4.0,>=2.0 in /usr/local/lib/python3.10/dist-packages (from aiohttp->datasets) (2.0.12)\n",
            "Requirement already satisfied: multidict<7.0,>=4.5 in /usr/local/lib/python3.10/dist-packages (from aiohttp->datasets) (6.0.4)\n",
            "Requirement already satisfied: async-timeout<5.0,>=4.0.0a3 in /usr/local/lib/python3.10/dist-packages (from aiohttp->datasets) (4.0.2)\n",
            "Requirement already satisfied: yarl<2.0,>=1.0 in /usr/local/lib/python3.10/dist-packages (from aiohttp->datasets) (1.9.2)\n",
            "Requirement already satisfied: frozenlist>=1.1.1 in /usr/local/lib/python3.10/dist-packages (from aiohttp->datasets) (1.3.3)\n",
            "Requirement already satisfied: aiosignal>=1.1.2 in /usr/local/lib/python3.10/dist-packages (from aiohttp->datasets) (1.3.1)\n",
            "Requirement already satisfied: filelock in /usr/local/lib/python3.10/dist-packages (from huggingface-hub<1.0.0,>=0.11.0->datasets) (3.12.0)\n",
            "Requirement already satisfied: typing-extensions>=3.7.4.3 in /usr/local/lib/python3.10/dist-packages (from huggingface-hub<1.0.0,>=0.11.0->datasets) (4.5.0)\n",
            "Requirement already satisfied: urllib3<1.27,>=1.21.1 in /usr/local/lib/python3.10/dist-packages (from requests>=2.19.0->datasets) (1.26.15)\n",
            "Requirement already satisfied: certifi>=2017.4.17 in /usr/local/lib/python3.10/dist-packages (from requests>=2.19.0->datasets) (2022.12.7)\n",
            "Requirement already satisfied: idna<4,>=2.5 in /usr/local/lib/python3.10/dist-packages (from requests>=2.19.0->datasets) (3.4)\n",
            "Requirement already satisfied: python-dateutil>=2.8.1 in /usr/local/lib/python3.10/dist-packages (from pandas->datasets) (2.8.2)\n",
            "Requirement already satisfied: pytz>=2020.1 in /usr/local/lib/python3.10/dist-packages (from pandas->datasets) (2022.7.1)\n",
            "Requirement already satisfied: six>=1.5 in /usr/local/lib/python3.10/dist-packages (from python-dateutil>=2.8.1->pandas->datasets) (1.16.0)\n"
          ]
        }
      ],
      "source": [
        "!pip install --upgrade tensorflow_hub\n",
        "!pip install --upgrade tensorflow_text\n",
        "!pip install datasets\n",
        "\n"
      ]
    },
    {
      "cell_type": "code",
      "execution_count": null,
      "metadata": {
        "id": "BpodRsBbciZM"
      },
      "outputs": [],
      "source": [
        "import tensorflow as tf\n",
        "import tensorflow_hub as hub\n",
        "import tensorflow_text as text\n",
        "from datasets import load_dataset\n",
        "import pandas as pd\n",
        "from sklearn.model_selection import train_test_split\n",
        "from sklearn.metrics.pairwise import cosine_similarity"
      ]
    },
    {
      "cell_type": "code",
      "execution_count": null,
      "metadata": {
        "id": "KAKtp9dicl0Y"
      },
      "outputs": [],
      "source": [
        "preprocess_url = \"https://tfhub.dev/tensorflow/bert_en_uncased_preprocess/3\"\n",
        "\n",
        "encoder_url = \"https://tfhub.dev/tensorflow/small_bert/bert_en_uncased_L-2_H-128_A-2/2\""
      ]
    },
    {
      "cell_type": "code",
      "execution_count": null,
      "metadata": {
        "id": "ui-E6wxPdG00"
      },
      "outputs": [],
      "source": [
        "bert_preprocess = hub.KerasLayer(preprocess_url)"
      ]
    },
    {
      "cell_type": "code",
      "execution_count": null,
      "metadata": {
        "colab": {
          "base_uri": "https://localhost:8080/",
          "height": 87,
          "referenced_widgets": [
            "8b3fbedf3ac64bd8bc59bf5b41d39d4a",
            "c87d2d43fa9d4616a01536c486dd2906",
            "58c87683da7a486abd3ddc779826e8f1",
            "793a79e6620a463fadef3057b1f2819c",
            "7d7aed342cee4d899b334db066722380",
            "8505807f7635458d8e50a705085a7445",
            "8be03e4cb2a74aec83075dca43577367",
            "097b09cb411b4381b78f4d65c88092bb",
            "fb55dd236fba44b8a88c87e65b471a09",
            "1ce9e1e56ef54cd0abffbe8e1365df46",
            "bc3d8cb7a5ba45dc850cc2b25ad5bcd0"
          ]
        },
        "id": "wE8zyeqsdPpV",
        "outputId": "4ec097de-3e29-4afd-ceaf-0444ce79e0c5"
      },
      "outputs": [
        {
          "name": "stderr",
          "output_type": "stream",
          "text": [
            "WARNING:datasets.builder:Found cached dataset mbib-base (/root/.cache/huggingface/datasets/mediabiasgroup___mbib-base/cognitive-bias/1.0.0/cf6f80c612f1363f2162f92f58e1113915a6b01aa07680513a18b7d94570e875)\n"
          ]
        },
        {
          "data": {
            "application/vnd.jupyter.widget-view+json": {
              "model_id": "8b3fbedf3ac64bd8bc59bf5b41d39d4a",
              "version_major": 2,
              "version_minor": 0
            },
            "text/plain": [
              "  0%|          | 0/1 [00:00<?, ?it/s]"
            ]
          },
          "metadata": {},
          "output_type": "display_data"
        }
      ],
      "source": [
        "dataset = load_dataset(\"mediabiasgroup/mbib-base\", \"cognitive-bias\")\n",
        "\n",
        "df= pd.DataFrame(dataset['train'])\n",
        "#df = df.sample(frac = 0.03)\n",
        "X = df['text']\n",
        "y= df['label']"
      ]
    },
    {
      "cell_type": "code",
      "execution_count": null,
      "metadata": {
        "colab": {
          "base_uri": "https://localhost:8080/"
        },
        "id": "BEOl1o4Vdg2E",
        "outputId": "e0aa2c09-09dd-4cdb-ebab-64401f51e84e"
      },
      "outputs": [
        {
          "data": {
            "text/plain": [
              "dict_keys(['input_mask', 'input_type_ids', 'input_word_ids'])"
            ]
          },
          "execution_count": 143,
          "metadata": {},
          "output_type": "execute_result"
        }
      ],
      "source": [
        "text_preprocessed = bert_preprocess(df[\"text\"])\n",
        "text_preprocessed.keys()"
      ]
    },
    {
      "cell_type": "code",
      "execution_count": null,
      "metadata": {
        "colab": {
          "base_uri": "https://localhost:8080/"
        },
        "id": "WGIGxLYpdiut",
        "outputId": "3cc2b858-2d6f-4460-8ac1-f77524728e09"
      },
      "outputs": [
        {
          "data": {
            "text/plain": [
              "<tf.Tensor: shape=(7092, 128), dtype=int32, numpy=\n",
              "array([[1, 1, 1, ..., 0, 0, 0],\n",
              "       [1, 1, 1, ..., 0, 0, 0],\n",
              "       [1, 1, 1, ..., 0, 0, 0],\n",
              "       ...,\n",
              "       [1, 1, 1, ..., 0, 0, 0],\n",
              "       [1, 1, 1, ..., 0, 0, 0],\n",
              "       [1, 1, 1, ..., 0, 0, 0]], dtype=int32)>"
            ]
          },
          "execution_count": 144,
          "metadata": {},
          "output_type": "execute_result"
        }
      ],
      "source": [
        "text_preprocessed['input_mask']"
      ]
    },
    {
      "cell_type": "code",
      "execution_count": null,
      "metadata": {
        "id": "IgDuQQLoduAi"
      },
      "outputs": [],
      "source": [
        "bert_encoder = hub.KerasLayer(encoder_url)"
      ]
    },
    {
      "cell_type": "code",
      "execution_count": null,
      "metadata": {
        "id": "8q0pQXwqxUPk"
      },
      "outputs": [],
      "source": [
        "bert_results = bert_encoder(text_preprocessed)"
      ]
    },
    {
      "cell_type": "code",
      "execution_count": null,
      "metadata": {
        "colab": {
          "base_uri": "https://localhost:8080/"
        },
        "id": "8HzWaXBRwwXx",
        "outputId": "5096951f-5269-48a1-8368-bc55dafffc4b"
      },
      "outputs": [
        {
          "data": {
            "text/plain": [
              "dict_keys(['default', 'encoder_outputs', 'sequence_output', 'pooled_output'])"
            ]
          },
          "execution_count": 147,
          "metadata": {},
          "output_type": "execute_result"
        }
      ],
      "source": [
        "bert_results.keys()"
      ]
    },
    {
      "cell_type": "code",
      "execution_count": null,
      "metadata": {
        "colab": {
          "base_uri": "https://localhost:8080/"
        },
        "id": "vd5QNkrjxjik",
        "outputId": "fb0838e1-d9b0-4cc9-8d0a-3cdeedefc0c8"
      },
      "outputs": [
        {
          "data": {
            "text/plain": [
              "<tf.Tensor: shape=(7092, 128), dtype=float32, numpy=\n",
              "array([[-0.99999094,  0.07336804, -0.99135154, ...,  0.9901099 ,\n",
              "         0.94520897,  0.9676085 ],\n",
              "       [-0.9998347 ,  0.05010236, -0.9888227 , ...,  0.9565068 ,\n",
              "         0.6817847 ,  0.9894745 ],\n",
              "       [-0.99852353, -0.02659259, -0.9960243 , ...,  0.9580887 ,\n",
              "         0.9047884 ,  0.99519724],\n",
              "       ...,\n",
              "       [-0.99995387,  0.05352484, -0.98523635, ...,  0.99106574,\n",
              "         0.9890929 ,  0.9942125 ],\n",
              "       [-0.9999387 ,  0.04133975, -0.9982727 , ...,  0.9842626 ,\n",
              "         0.934554  ,  0.9986218 ],\n",
              "       [-0.99990785,  0.0197706 , -0.99936306, ...,  0.9693825 ,\n",
              "         0.9686121 ,  0.99351   ]], dtype=float32)>"
            ]
          },
          "execution_count": 148,
          "metadata": {},
          "output_type": "execute_result"
        }
      ],
      "source": [
        "bert_results[\"pooled_output\"] #embedding for the entire sentence"
      ]
    },
    {
      "cell_type": "code",
      "execution_count": null,
      "metadata": {
        "colab": {
          "base_uri": "https://localhost:8080/"
        },
        "id": "VfrfeLsvyX10",
        "outputId": "295533cf-a63b-473a-8abe-333c6ced058c"
      },
      "outputs": [
        {
          "data": {
            "text/plain": [
              "<tf.Tensor: shape=(7092, 128, 128), dtype=float32, numpy=\n",
              "array([[[-0.7220757 , -0.57216483, -3.8679955 , ..., -0.9257057 ,\n",
              "         -1.7967091 ,  1.4893506 ],\n",
              "        [-0.9134617 ,  0.05592583, -0.48386675, ..., -1.995433  ,\n",
              "          0.03582139,  0.65686464],\n",
              "        [-1.185576  , -0.22558446,  0.06697592, ..., -2.4648998 ,\n",
              "         -0.8990861 ,  2.6298795 ],\n",
              "        ...,\n",
              "        [-1.0149283 , -0.32500753, -0.8444824 , ..., -1.7225648 ,\n",
              "         -0.7404627 ,  2.293339  ],\n",
              "        [-0.75149417, -0.33793658, -0.75256544, ..., -1.4114588 ,\n",
              "         -0.8547215 ,  2.020059  ],\n",
              "        [-0.7379788 , -0.00701248, -0.66029155, ..., -1.4275272 ,\n",
              "         -1.0628192 ,  2.0083609 ]],\n",
              "\n",
              "       [[ 0.10377847,  0.45274982, -3.5517254 , ...,  0.8841338 ,\n",
              "         -1.6002306 ,  1.221247  ],\n",
              "        [-1.593793  ,  0.66634625,  0.1569472 , ..., -1.65858   ,\n",
              "         -1.5236907 , -0.43111205],\n",
              "        [-2.2061672 ,  0.45787776,  0.5569897 , ..., -1.0326381 ,\n",
              "         -1.8691124 ,  0.09334254],\n",
              "        ...,\n",
              "        [-0.6209021 ,  0.37797162, -0.53034544, ..., -0.91657877,\n",
              "         -0.30326942,  1.4491073 ],\n",
              "        [-0.2884382 ,  0.80312276, -0.5347347 , ..., -0.55226135,\n",
              "         -0.5314052 ,  1.3664197 ],\n",
              "        [-0.15793514,  1.0566291 , -0.35529992, ..., -0.41254243,\n",
              "         -0.81499827,  1.212421  ]],\n",
              "\n",
              "       [[-0.5742528 ,  0.7554414 , -4.811987  , ..., -0.7189019 ,\n",
              "         -1.083918  ,  1.9252768 ],\n",
              "        [-0.52199686,  0.83991003, -0.20902178, ..., -0.32379603,\n",
              "         -1.1616842 ,  1.7111465 ],\n",
              "        [-1.1381652 , -0.10319525, -0.9835288 , ..., -1.9357545 ,\n",
              "         -0.09726561,  2.9243937 ],\n",
              "        ...,\n",
              "        [-1.1352266 ,  1.1957676 , -0.99444956, ..., -0.7323719 ,\n",
              "         -0.11875806,  1.9381794 ],\n",
              "        [-1.0768011 ,  1.3255215 , -1.105396  , ..., -0.873335  ,\n",
              "         -0.5251306 ,  2.4533532 ],\n",
              "        [-1.2617234 ,  1.6884092 , -0.8921485 , ..., -0.66028345,\n",
              "         -0.93517995,  2.6674957 ]],\n",
              "\n",
              "       ...,\n",
              "\n",
              "       [[-0.9170185 ,  2.0654032 , -4.620942  , ..., -1.1592586 ,\n",
              "         -1.0290438 ,  1.0949442 ],\n",
              "        [-1.4492172 ,  2.143226  , -0.5227955 , ..., -2.2828913 ,\n",
              "         -0.36323392,  0.2726314 ],\n",
              "        [-1.6204461 ,  0.9299456 , -0.28497422, ..., -2.6366303 ,\n",
              "         -1.2804614 , -0.7503078 ],\n",
              "        ...,\n",
              "        [-1.3039495 ,  1.6004146 , -0.87673557, ..., -2.2747133 ,\n",
              "          0.02635109,  2.0386384 ],\n",
              "        [-0.96334004,  1.9926455 , -0.97405636, ..., -2.0117214 ,\n",
              "         -0.39392036,  2.1635647 ],\n",
              "        [-0.946224  ,  2.2129686 , -0.9109491 , ..., -1.8270313 ,\n",
              "         -0.54114527,  2.0059745 ]],\n",
              "\n",
              "       [[-1.3336911 , -1.0305808 , -3.9690769 , ..., -0.5854654 ,\n",
              "         -0.34873265,  1.0860772 ],\n",
              "        [-1.7840099 ,  0.3942914 , -0.11499316, ..., -2.2777498 ,\n",
              "         -0.88584465,  1.184937  ],\n",
              "        [-1.839566  , -0.06037345, -0.6613736 , ..., -0.91860676,\n",
              "         -0.5988479 ,  1.3888477 ],\n",
              "        ...,\n",
              "        [-1.9545951 ,  0.3554166 , -0.7274474 , ..., -1.5786958 ,\n",
              "          0.2833138 ,  2.2267177 ],\n",
              "        [-1.7096406 ,  0.38909793, -0.6564462 , ..., -1.4508913 ,\n",
              "          0.20690398,  2.1786463 ],\n",
              "        [-1.2147552 ,  0.28039354, -0.65983284, ..., -1.2284662 ,\n",
              "         -0.05701156,  2.2630272 ]],\n",
              "\n",
              "       [[-0.63515645,  0.6806142 , -4.4338    , ..., -0.25403452,\n",
              "         -0.98367906,  0.41832715],\n",
              "        [-1.4794083 ,  1.7481599 , -0.53056663, ..., -0.7670891 ,\n",
              "         -0.30417147,  0.75030625],\n",
              "        [-0.44229293,  0.85650945, -1.3174076 , ..., -0.9662881 ,\n",
              "         -0.9091221 ,  1.0935559 ],\n",
              "        ...,\n",
              "        [-1.3726823 ,  1.181885  , -1.2619658 , ..., -1.1574415 ,\n",
              "         -0.3167303 ,  1.9619006 ],\n",
              "        [-1.0364013 ,  1.244608  , -1.142647  , ..., -1.2123501 ,\n",
              "         -0.10906838,  1.7662022 ],\n",
              "        [-0.7098819 ,  1.6342713 , -1.3251498 , ..., -1.2246507 ,\n",
              "         -0.45053047,  1.4547098 ]]], dtype=float32)>"
            ]
          },
          "execution_count": 149,
          "metadata": {},
          "output_type": "execute_result"
        }
      ],
      "source": [
        "bert_results[\"sequence_output\"] #individual words embedding vectors. It is the\n",
        "#same as the last encoder output\n"
      ]
    },
    {
      "cell_type": "code",
      "execution_count": null,
      "metadata": {
        "colab": {
          "base_uri": "https://localhost:8080/"
        },
        "id": "DwhJ9r8cy153",
        "outputId": "44e4f276-860f-46fb-cf5a-339ac67e814d"
      },
      "outputs": [
        {
          "data": {
            "text/plain": [
              "2"
            ]
          },
          "execution_count": 150,
          "metadata": {},
          "output_type": "execute_result"
        }
      ],
      "source": [
        "len(bert_results[\"encoder_outputs\"]) #number of layers. Output of indicual encoder"
      ]
    },
    {
      "cell_type": "code",
      "execution_count": null,
      "metadata": {
        "colab": {
          "base_uri": "https://localhost:8080/",
          "height": 174
        },
        "id": "eXtVaXcRzYqk",
        "outputId": "b5c6b3f4-2201-435b-fd0f-439d73eef5b6"
      },
      "outputs": [
        {
          "data": {
            "text/html": [
              "\n",
              "  <div id=\"df-ab2960ca-2064-482f-b91b-9086a6d1b646\">\n",
              "    <div class=\"colab-df-container\">\n",
              "      <div>\n",
              "<style scoped>\n",
              "    .dataframe tbody tr th:only-of-type {\n",
              "        vertical-align: middle;\n",
              "    }\n",
              "\n",
              "    .dataframe tbody tr th {\n",
              "        vertical-align: top;\n",
              "    }\n",
              "\n",
              "    .dataframe thead tr th {\n",
              "        text-align: left;\n",
              "    }\n",
              "\n",
              "    .dataframe thead tr:last-of-type th {\n",
              "        text-align: right;\n",
              "    }\n",
              "</style>\n",
              "<table border=\"1\" class=\"dataframe\">\n",
              "  <thead>\n",
              "    <tr>\n",
              "      <th></th>\n",
              "      <th colspan=\"4\" halign=\"left\">text</th>\n",
              "    </tr>\n",
              "    <tr>\n",
              "      <th></th>\n",
              "      <th>count</th>\n",
              "      <th>unique</th>\n",
              "      <th>top</th>\n",
              "      <th>freq</th>\n",
              "    </tr>\n",
              "    <tr>\n",
              "      <th>label</th>\n",
              "      <th></th>\n",
              "      <th></th>\n",
              "      <th></th>\n",
              "      <th></th>\n",
              "    </tr>\n",
              "  </thead>\n",
              "  <tbody>\n",
              "    <tr>\n",
              "      <th>0</th>\n",
              "      <td>3546</td>\n",
              "      <td>3546</td>\n",
              "      <td>To vote in Mexico every eligible Mexican citiz...</td>\n",
              "      <td>1</td>\n",
              "    </tr>\n",
              "    <tr>\n",
              "      <th>1</th>\n",
              "      <td>3546</td>\n",
              "      <td>3546</td>\n",
              "      <td>His true name is Barak Hussein Muhammed Obama</td>\n",
              "      <td>1</td>\n",
              "    </tr>\n",
              "  </tbody>\n",
              "</table>\n",
              "</div>\n",
              "      <button class=\"colab-df-convert\" onclick=\"convertToInteractive('df-ab2960ca-2064-482f-b91b-9086a6d1b646')\"\n",
              "              title=\"Convert this dataframe to an interactive table.\"\n",
              "              style=\"display:none;\">\n",
              "        \n",
              "  <svg xmlns=\"http://www.w3.org/2000/svg\" height=\"24px\"viewBox=\"0 0 24 24\"\n",
              "       width=\"24px\">\n",
              "    <path d=\"M0 0h24v24H0V0z\" fill=\"none\"/>\n",
              "    <path d=\"M18.56 5.44l.94 2.06.94-2.06 2.06-.94-2.06-.94-.94-2.06-.94 2.06-2.06.94zm-11 1L8.5 8.5l.94-2.06 2.06-.94-2.06-.94L8.5 2.5l-.94 2.06-2.06.94zm10 10l.94 2.06.94-2.06 2.06-.94-2.06-.94-.94-2.06-.94 2.06-2.06.94z\"/><path d=\"M17.41 7.96l-1.37-1.37c-.4-.4-.92-.59-1.43-.59-.52 0-1.04.2-1.43.59L10.3 9.45l-7.72 7.72c-.78.78-.78 2.05 0 2.83L4 21.41c.39.39.9.59 1.41.59.51 0 1.02-.2 1.41-.59l7.78-7.78 2.81-2.81c.8-.78.8-2.07 0-2.86zM5.41 20L4 18.59l7.72-7.72 1.47 1.35L5.41 20z\"/>\n",
              "  </svg>\n",
              "      </button>\n",
              "      \n",
              "  <style>\n",
              "    .colab-df-container {\n",
              "      display:flex;\n",
              "      flex-wrap:wrap;\n",
              "      gap: 12px;\n",
              "    }\n",
              "\n",
              "    .colab-df-convert {\n",
              "      background-color: #E8F0FE;\n",
              "      border: none;\n",
              "      border-radius: 50%;\n",
              "      cursor: pointer;\n",
              "      display: none;\n",
              "      fill: #1967D2;\n",
              "      height: 32px;\n",
              "      padding: 0 0 0 0;\n",
              "      width: 32px;\n",
              "    }\n",
              "\n",
              "    .colab-df-convert:hover {\n",
              "      background-color: #E2EBFA;\n",
              "      box-shadow: 0px 1px 2px rgba(60, 64, 67, 0.3), 0px 1px 3px 1px rgba(60, 64, 67, 0.15);\n",
              "      fill: #174EA6;\n",
              "    }\n",
              "\n",
              "    [theme=dark] .colab-df-convert {\n",
              "      background-color: #3B4455;\n",
              "      fill: #D2E3FC;\n",
              "    }\n",
              "\n",
              "    [theme=dark] .colab-df-convert:hover {\n",
              "      background-color: #434B5C;\n",
              "      box-shadow: 0px 1px 3px 1px rgba(0, 0, 0, 0.15);\n",
              "      filter: drop-shadow(0px 1px 2px rgba(0, 0, 0, 0.3));\n",
              "      fill: #FFFFFF;\n",
              "    }\n",
              "  </style>\n",
              "\n",
              "      <script>\n",
              "        const buttonEl =\n",
              "          document.querySelector('#df-ab2960ca-2064-482f-b91b-9086a6d1b646 button.colab-df-convert');\n",
              "        buttonEl.style.display =\n",
              "          google.colab.kernel.accessAllowed ? 'block' : 'none';\n",
              "\n",
              "        async function convertToInteractive(key) {\n",
              "          const element = document.querySelector('#df-ab2960ca-2064-482f-b91b-9086a6d1b646');\n",
              "          const dataTable =\n",
              "            await google.colab.kernel.invokeFunction('convertToInteractive',\n",
              "                                                     [key], {});\n",
              "          if (!dataTable) return;\n",
              "\n",
              "          const docLinkHtml = 'Like what you see? Visit the ' +\n",
              "            '<a target=\"_blank\" href=https://colab.research.google.com/notebooks/data_table.ipynb>data table notebook</a>'\n",
              "            + ' to learn more about interactive tables.';\n",
              "          element.innerHTML = '';\n",
              "          dataTable['output_type'] = 'display_data';\n",
              "          await google.colab.output.renderOutput(dataTable, element);\n",
              "          const docLink = document.createElement('div');\n",
              "          docLink.innerHTML = docLinkHtml;\n",
              "          element.appendChild(docLink);\n",
              "        }\n",
              "      </script>\n",
              "    </div>\n",
              "  </div>\n",
              "  "
            ],
            "text/plain": [
              "       text                                                               \n",
              "      count unique                                                top freq\n",
              "label                                                                     \n",
              "0      3546   3546  To vote in Mexico every eligible Mexican citiz...    1\n",
              "1      3546   3546     His true name is Barak Hussein Muhammed Obama     1"
            ]
          },
          "execution_count": 151,
          "metadata": {},
          "output_type": "execute_result"
        }
      ],
      "source": [
        "df.groupby(\"label\").describe()"
      ]
    },
    {
      "cell_type": "markdown",
      "metadata": {
        "id": "2BbmAtgVyZVU"
      },
      "source": []
    },
    {
      "cell_type": "code",
      "execution_count": null,
      "metadata": {
        "colab": {
          "base_uri": "https://localhost:8080/"
        },
        "id": "INAKhBNK02mV",
        "outputId": "6a600d62-e363-472c-a2b7-2d890be5b62f"
      },
      "outputs": [
        {
          "data": {
            "text/plain": [
              "0    3546\n",
              "1    3546\n",
              "Name: label, dtype: int64"
            ]
          },
          "execution_count": 152,
          "metadata": {},
          "output_type": "execute_result"
        }
      ],
      "source": [
        "df['label'].value_counts()"
      ]
    },
    {
      "cell_type": "code",
      "execution_count": null,
      "metadata": {
        "colab": {
          "base_uri": "https://localhost:8080/"
        },
        "id": "9u3atUr21Aaa",
        "outputId": "0443970c-84e3-439a-a3dc-6e90c83035d3"
      },
      "outputs": [
        {
          "data": {
            "text/plain": [
              "0.5043264503441495"
            ]
          },
          "execution_count": 153,
          "metadata": {},
          "output_type": "execute_result"
        }
      ],
      "source": [
        "5129/(5041+5129)"
      ]
    },
    {
      "cell_type": "code",
      "execution_count": null,
      "metadata": {
        "colab": {
          "base_uri": "https://localhost:8080/"
        },
        "id": "zF3iJkuD1JuW",
        "outputId": "b023c39d-eae9-4027-9f16-d77f6b0bb052"
      },
      "outputs": [
        {
          "data": {
            "text/plain": [
              "(3546, 2)"
            ]
          },
          "execution_count": 154,
          "metadata": {},
          "output_type": "execute_result"
        }
      ],
      "source": [
        "df_hate = df[df['label']== 1]\n",
        "df_hate.shape"
      ]
    },
    {
      "cell_type": "code",
      "execution_count": null,
      "metadata": {
        "colab": {
          "base_uri": "https://localhost:8080/"
        },
        "id": "pN68CZcB3myV",
        "outputId": "f3392d10-b578-4260-9ca1-7a5c0bcd1bbe"
      },
      "outputs": [
        {
          "data": {
            "text/plain": [
              "(3546, 2)"
            ]
          },
          "execution_count": 155,
          "metadata": {},
          "output_type": "execute_result"
        }
      ],
      "source": [
        "df_nice = df[df['label']== 0]\n",
        "df_nice.shape"
      ]
    },
    {
      "cell_type": "code",
      "execution_count": null,
      "metadata": {
        "id": "ptlg44X_3svO"
      },
      "outputs": [],
      "source": [
        "X_train, X_test, y_train, y_test = train_test_split(X, y, stratify=df['label'])"
      ]
    },
    {
      "cell_type": "code",
      "execution_count": null,
      "metadata": {
        "colab": {
          "base_uri": "https://localhost:8080/",
          "height": 423
        },
        "id": "Gq7JwqnA-HBn",
        "outputId": "42d4cd17-2deb-4f2b-c7e7-71613e5a3278"
      },
      "outputs": [
        {
          "data": {
            "text/html": [
              "\n",
              "  <div id=\"df-1ff760ab-405f-4992-87ea-54fec1f5e2a1\">\n",
              "    <div class=\"colab-df-container\">\n",
              "      <div>\n",
              "<style scoped>\n",
              "    .dataframe tbody tr th:only-of-type {\n",
              "        vertical-align: middle;\n",
              "    }\n",
              "\n",
              "    .dataframe tbody tr th {\n",
              "        vertical-align: top;\n",
              "    }\n",
              "\n",
              "    .dataframe thead th {\n",
              "        text-align: right;\n",
              "    }\n",
              "</style>\n",
              "<table border=\"1\" class=\"dataframe\">\n",
              "  <thead>\n",
              "    <tr style=\"text-align: right;\">\n",
              "      <th></th>\n",
              "      <th>text</th>\n",
              "    </tr>\n",
              "  </thead>\n",
              "  <tbody>\n",
              "    <tr>\n",
              "      <th>2238</th>\n",
              "      <td>We got the Quonset Business Park for free and ...</td>\n",
              "    </tr>\n",
              "    <tr>\n",
              "      <th>855</th>\n",
              "      <td>Before I was state treasurer my Rhode Island b...</td>\n",
              "    </tr>\n",
              "    <tr>\n",
              "      <th>4804</th>\n",
              "      <td>Earlier this year John DePetro was accused of ...</td>\n",
              "    </tr>\n",
              "    <tr>\n",
              "      <th>620</th>\n",
              "      <td>Says David Rivera received a 5 000 campaign co...</td>\n",
              "    </tr>\n",
              "    <tr>\n",
              "      <th>3783</th>\n",
              "      <td>Says President Barack Obama did not invite a R...</td>\n",
              "    </tr>\n",
              "    <tr>\n",
              "      <th>...</th>\n",
              "      <td>...</td>\n",
              "    </tr>\n",
              "    <tr>\n",
              "      <th>65</th>\n",
              "      <td>Compact fluorescent light bulbs are toxic and ...</td>\n",
              "    </tr>\n",
              "    <tr>\n",
              "      <th>4107</th>\n",
              "      <td>Says Obama called Sarah Palin a pig</td>\n",
              "    </tr>\n",
              "    <tr>\n",
              "      <th>2035</th>\n",
              "      <td>The incoming Republican freshman class well it...</td>\n",
              "    </tr>\n",
              "    <tr>\n",
              "      <th>488</th>\n",
              "      <td>Budget analysts say the looming tax hikes and ...</td>\n",
              "    </tr>\n",
              "    <tr>\n",
              "      <th>381</th>\n",
              "      <td>Says Russ Feingold wanted to get money out of ...</td>\n",
              "    </tr>\n",
              "  </tbody>\n",
              "</table>\n",
              "<p>5319 rows × 1 columns</p>\n",
              "</div>\n",
              "      <button class=\"colab-df-convert\" onclick=\"convertToInteractive('df-1ff760ab-405f-4992-87ea-54fec1f5e2a1')\"\n",
              "              title=\"Convert this dataframe to an interactive table.\"\n",
              "              style=\"display:none;\">\n",
              "        \n",
              "  <svg xmlns=\"http://www.w3.org/2000/svg\" height=\"24px\"viewBox=\"0 0 24 24\"\n",
              "       width=\"24px\">\n",
              "    <path d=\"M0 0h24v24H0V0z\" fill=\"none\"/>\n",
              "    <path d=\"M18.56 5.44l.94 2.06.94-2.06 2.06-.94-2.06-.94-.94-2.06-.94 2.06-2.06.94zm-11 1L8.5 8.5l.94-2.06 2.06-.94-2.06-.94L8.5 2.5l-.94 2.06-2.06.94zm10 10l.94 2.06.94-2.06 2.06-.94-2.06-.94-.94-2.06-.94 2.06-2.06.94z\"/><path d=\"M17.41 7.96l-1.37-1.37c-.4-.4-.92-.59-1.43-.59-.52 0-1.04.2-1.43.59L10.3 9.45l-7.72 7.72c-.78.78-.78 2.05 0 2.83L4 21.41c.39.39.9.59 1.41.59.51 0 1.02-.2 1.41-.59l7.78-7.78 2.81-2.81c.8-.78.8-2.07 0-2.86zM5.41 20L4 18.59l7.72-7.72 1.47 1.35L5.41 20z\"/>\n",
              "  </svg>\n",
              "      </button>\n",
              "      \n",
              "  <style>\n",
              "    .colab-df-container {\n",
              "      display:flex;\n",
              "      flex-wrap:wrap;\n",
              "      gap: 12px;\n",
              "    }\n",
              "\n",
              "    .colab-df-convert {\n",
              "      background-color: #E8F0FE;\n",
              "      border: none;\n",
              "      border-radius: 50%;\n",
              "      cursor: pointer;\n",
              "      display: none;\n",
              "      fill: #1967D2;\n",
              "      height: 32px;\n",
              "      padding: 0 0 0 0;\n",
              "      width: 32px;\n",
              "    }\n",
              "\n",
              "    .colab-df-convert:hover {\n",
              "      background-color: #E2EBFA;\n",
              "      box-shadow: 0px 1px 2px rgba(60, 64, 67, 0.3), 0px 1px 3px 1px rgba(60, 64, 67, 0.15);\n",
              "      fill: #174EA6;\n",
              "    }\n",
              "\n",
              "    [theme=dark] .colab-df-convert {\n",
              "      background-color: #3B4455;\n",
              "      fill: #D2E3FC;\n",
              "    }\n",
              "\n",
              "    [theme=dark] .colab-df-convert:hover {\n",
              "      background-color: #434B5C;\n",
              "      box-shadow: 0px 1px 3px 1px rgba(0, 0, 0, 0.15);\n",
              "      filter: drop-shadow(0px 1px 2px rgba(0, 0, 0, 0.3));\n",
              "      fill: #FFFFFF;\n",
              "    }\n",
              "  </style>\n",
              "\n",
              "      <script>\n",
              "        const buttonEl =\n",
              "          document.querySelector('#df-1ff760ab-405f-4992-87ea-54fec1f5e2a1 button.colab-df-convert');\n",
              "        buttonEl.style.display =\n",
              "          google.colab.kernel.accessAllowed ? 'block' : 'none';\n",
              "\n",
              "        async function convertToInteractive(key) {\n",
              "          const element = document.querySelector('#df-1ff760ab-405f-4992-87ea-54fec1f5e2a1');\n",
              "          const dataTable =\n",
              "            await google.colab.kernel.invokeFunction('convertToInteractive',\n",
              "                                                     [key], {});\n",
              "          if (!dataTable) return;\n",
              "\n",
              "          const docLinkHtml = 'Like what you see? Visit the ' +\n",
              "            '<a target=\"_blank\" href=https://colab.research.google.com/notebooks/data_table.ipynb>data table notebook</a>'\n",
              "            + ' to learn more about interactive tables.';\n",
              "          element.innerHTML = '';\n",
              "          dataTable['output_type'] = 'display_data';\n",
              "          await google.colab.output.renderOutput(dataTable, element);\n",
              "          const docLink = document.createElement('div');\n",
              "          docLink.innerHTML = docLinkHtml;\n",
              "          element.appendChild(docLink);\n",
              "        }\n",
              "      </script>\n",
              "    </div>\n",
              "  </div>\n",
              "  "
            ],
            "text/plain": [
              "                                                   text\n",
              "2238  We got the Quonset Business Park for free and ...\n",
              "855   Before I was state treasurer my Rhode Island b...\n",
              "4804  Earlier this year John DePetro was accused of ...\n",
              "620   Says David Rivera received a 5 000 campaign co...\n",
              "3783  Says President Barack Obama did not invite a R...\n",
              "...                                                 ...\n",
              "65    Compact fluorescent light bulbs are toxic and ...\n",
              "4107               Says Obama called Sarah Palin a pig \n",
              "2035  The incoming Republican freshman class well it...\n",
              "488   Budget analysts say the looming tax hikes and ...\n",
              "381   Says Russ Feingold wanted to get money out of ...\n",
              "\n",
              "[5319 rows x 1 columns]"
            ]
          },
          "execution_count": 157,
          "metadata": {},
          "output_type": "execute_result"
        }
      ],
      "source": [
        "X_df = pd.DataFrame(X_train)\n",
        "X_df.T.head(1).T"
      ]
    },
    {
      "cell_type": "code",
      "execution_count": null,
      "metadata": {
        "id": "F6Vtq0Wz5BYZ"
      },
      "outputs": [],
      "source": [
        "def get_sentence_embeding(sentences):\n",
        "  preprocessed_text = bert_preprocess(sentences)\n",
        "  return bert_encoder (text_preprocessed)['pooled_output']\n",
        "\n",
        "#get_sentence_embeding([\"We didn t buy at the perfect time \"])\n",
        "\n"
      ]
    },
    {
      "cell_type": "code",
      "execution_count": null,
      "metadata": {
        "id": "7-k37tAXInvs"
      },
      "outputs": [],
      "source": [
        "text_input = tf.keras.layers.Input(shape=(), dtype=tf.string, name=\"text\")\n",
        " \n",
        "text_preprocessed = bert_preprocess(text_input)\n",
        "\n",
        "outputs = bert_encoder(text_preprocessed)\n",
        "pooled_output = outputs['pooled_output']\n",
        "#Neural Network Layers\n",
        "l = tf.keras.layers.Dropout(0.1, name='dropout')(pooled_output)\n",
        "output = tf.keras.layers.Dense(1, activation='sigmoid', name='output')(l)\n"
      ]
    },
    {
      "cell_type": "code",
      "execution_count": null,
      "metadata": {
        "id": "0g844SfAD5VQ"
      },
      "outputs": [],
      "source": [
        "#construct final model\n",
        "\n",
        "model = tf.keras.Model(inputs=text_input, outputs=output)"
      ]
    },
    {
      "cell_type": "code",
      "execution_count": null,
      "metadata": {
        "colab": {
          "base_uri": "https://localhost:8080/"
        },
        "id": "8xZ5CJktKYMW",
        "outputId": "fb70c45f-c286-4313-ae8f-ebb2cd639516"
      },
      "outputs": [
        {
          "name": "stdout",
          "output_type": "stream",
          "text": [
            "Model: \"model_6\"\n",
            "__________________________________________________________________________________________________\n",
            " Layer (type)                   Output Shape         Param #     Connected to                     \n",
            "==================================================================================================\n",
            " text (InputLayer)              [(None,)]            0           []                               \n",
            "                                                                                                  \n",
            " keras_layer_10 (KerasLayer)    {'input_mask': (Non  0           ['text[0][0]']                   \n",
            "                                e, 128),                                                          \n",
            "                                 'input_type_ids':                                                \n",
            "                                (None, 128),                                                      \n",
            "                                 'input_word_ids':                                                \n",
            "                                (None, 128)}                                                      \n",
            "                                                                                                  \n",
            " keras_layer_11 (KerasLayer)    {'default': (None,   4385921     ['keras_layer_10[0][0]',         \n",
            "                                128),                             'keras_layer_10[0][1]',         \n",
            "                                 'encoder_outputs':               'keras_layer_10[0][2]']         \n",
            "                                 [(None, 128, 128),                                               \n",
            "                                 (None, 128, 128)],                                               \n",
            "                                 'sequence_output':                                               \n",
            "                                 (None, 128, 128),                                                \n",
            "                                 'pooled_output': (                                               \n",
            "                                None, 128)}                                                       \n",
            "                                                                                                  \n",
            " dropout (Dropout)              (None, 128)          0           ['keras_layer_11[0][3]']         \n",
            "                                                                                                  \n",
            " output (Dense)                 (None, 1)            129         ['dropout[0][0]']                \n",
            "                                                                                                  \n",
            "==================================================================================================\n",
            "Total params: 4,386,050\n",
            "Trainable params: 129\n",
            "Non-trainable params: 4,385,921\n",
            "__________________________________________________________________________________________________\n"
          ]
        }
      ],
      "source": [
        "model.summary()"
      ]
    },
    {
      "cell_type": "code",
      "execution_count": null,
      "metadata": {
        "id": "BcuG9SDNLNbP"
      },
      "outputs": [],
      "source": [
        "METRICS= [\n",
        "    tf.keras.metrics.BinaryAccuracy(name='accuracy'),\n",
        "    tf.keras.metrics.Precision(name='precision'),\n",
        "    tf.keras.metrics.Recall(name='recall')\n",
        "]\n",
        "\n",
        "model.compile(optimizer='adam',\n",
        "              loss='binary_crossentropy',\n",
        "              metrics=METRICS)"
      ]
    },
    {
      "cell_type": "code",
      "execution_count": null,
      "metadata": {
        "colab": {
          "background_save": true,
          "base_uri": "https://localhost:8080/"
        },
        "id": "otFXt7IrLrEF",
        "outputId": "158bc065-2b4b-4a9f-806f-e1a313ebcb60"
      },
      "outputs": [
        {
          "name": "stdout",
          "output_type": "stream",
          "text": [
            "Epoch 1/50\n",
            "167/167 [==============================] - 33s 179ms/step - loss: 0.7353 - accuracy: 0.5086 - precision: 0.5096 - recall: 0.4568\n",
            "Epoch 2/50\n",
            "167/167 [==============================] - 31s 184ms/step - loss: 0.7040 - accuracy: 0.5377 - precision: 0.5386 - recall: 0.5278\n",
            "Epoch 3/50\n",
            "167/167 [==============================] - 33s 198ms/step - loss: 0.6960 - accuracy: 0.5477 - precision: 0.5484 - recall: 0.5414\n",
            "Epoch 4/50\n",
            "167/167 [==============================] - 29s 174ms/step - loss: 0.6969 - accuracy: 0.5413 - precision: 0.5426 - recall: 0.5271\n",
            "Epoch 5/50\n",
            "167/167 [==============================] - 29s 175ms/step - loss: 0.6933 - accuracy: 0.5437 - precision: 0.5434 - recall: 0.5481\n",
            "Epoch 6/50\n",
            "167/167 [==============================] - 30s 178ms/step - loss: 0.6943 - accuracy: 0.5439 - precision: 0.5422 - recall: 0.5650\n",
            "Epoch 7/50\n",
            "167/167 [==============================] - 31s 186ms/step - loss: 0.6900 - accuracy: 0.5448 - precision: 0.5452 - recall: 0.5414\n",
            "Epoch 8/50\n",
            "167/167 [==============================] - 29s 176ms/step - loss: 0.6890 - accuracy: 0.5430 - precision: 0.5420 - recall: 0.5560\n",
            "Epoch 9/50\n",
            "167/167 [==============================] - 30s 180ms/step - loss: 0.6864 - accuracy: 0.5589 - precision: 0.5572 - recall: 0.5752\n",
            "Epoch 10/50\n",
            "167/167 [==============================] - 30s 177ms/step - loss: 0.6859 - accuracy: 0.5563 - precision: 0.5559 - recall: 0.5605\n",
            "Epoch 11/50\n",
            "167/167 [==============================] - 31s 186ms/step - loss: 0.6843 - accuracy: 0.5644 - precision: 0.5648 - recall: 0.5620\n",
            "Epoch 12/50\n",
            "167/167 [==============================] - 30s 180ms/step - loss: 0.6815 - accuracy: 0.5700 - precision: 0.5693 - recall: 0.5763\n",
            "Epoch 13/50\n",
            "167/167 [==============================] - 30s 179ms/step - loss: 0.6861 - accuracy: 0.5541 - precision: 0.5549 - recall: 0.5470\n",
            "Epoch 14/50\n",
            "167/167 [==============================] - 30s 178ms/step - loss: 0.6818 - accuracy: 0.5629 - precision: 0.5620 - recall: 0.5711\n",
            "Epoch 15/50\n",
            "167/167 [==============================] - 31s 183ms/step - loss: 0.6852 - accuracy: 0.5640 - precision: 0.5627 - recall: 0.5756\n",
            "Epoch 16/50\n",
            "167/167 [==============================] - 30s 180ms/step - loss: 0.6821 - accuracy: 0.5597 - precision: 0.5593 - recall: 0.5639\n",
            "Epoch 17/50\n",
            "167/167 [==============================] - 29s 176ms/step - loss: 0.6797 - accuracy: 0.5642 - precision: 0.5646 - recall: 0.5617\n",
            "Epoch 18/50\n",
            "167/167 [==============================] - 30s 180ms/step - loss: 0.6798 - accuracy: 0.5674 - precision: 0.5677 - recall: 0.5658\n",
            "Epoch 19/50\n",
            "167/167 [==============================] - 30s 178ms/step - loss: 0.6787 - accuracy: 0.5768 - precision: 0.5775 - recall: 0.5729\n",
            "Epoch 20/50\n",
            "167/167 [==============================] - 35s 207ms/step - loss: 0.6789 - accuracy: 0.5689 - precision: 0.5687 - recall: 0.5711\n",
            "Epoch 21/50\n",
            "167/167 [==============================] - 29s 175ms/step - loss: 0.6800 - accuracy: 0.5672 - precision: 0.5692 - recall: 0.5534\n",
            "Epoch 22/50\n",
            "167/167 [==============================] - 30s 181ms/step - loss: 0.6780 - accuracy: 0.5772 - precision: 0.5736 - recall: 0.6019\n",
            "Epoch 23/50\n",
            "167/167 [==============================] - 30s 179ms/step - loss: 0.6801 - accuracy: 0.5655 - precision: 0.5642 - recall: 0.5767\n",
            "Epoch 24/50\n",
            "167/167 [==============================] - 31s 184ms/step - loss: 0.6792 - accuracy: 0.5706 - precision: 0.5716 - recall: 0.5639\n",
            "Epoch 25/50\n",
            "167/167 [==============================] - 30s 177ms/step - loss: 0.6809 - accuracy: 0.5604 - precision: 0.5601 - recall: 0.5643\n",
            "Epoch 26/50\n",
            "167/167 [==============================] - 30s 177ms/step - loss: 0.6766 - accuracy: 0.5792 - precision: 0.5766 - recall: 0.5974\n",
            "Epoch 27/50\n",
            "167/167 [==============================] - 30s 178ms/step - loss: 0.6781 - accuracy: 0.5693 - precision: 0.5706 - recall: 0.5605\n",
            "Epoch 28/50\n",
            "167/167 [==============================] - 30s 178ms/step - loss: 0.6760 - accuracy: 0.5730 - precision: 0.5719 - recall: 0.5820\n",
            "Epoch 29/50\n",
            "167/167 [==============================] - 30s 183ms/step - loss: 0.6772 - accuracy: 0.5689 - precision: 0.5722 - recall: 0.5470\n",
            "Epoch 30/50\n",
            "167/167 [==============================] - 29s 174ms/step - loss: 0.6756 - accuracy: 0.5809 - precision: 0.5791 - recall: 0.5929\n",
            "Epoch 31/50\n",
            "167/167 [==============================] - 28s 168ms/step - loss: 0.6776 - accuracy: 0.5687 - precision: 0.5692 - recall: 0.5658\n",
            "Epoch 32/50\n",
            "167/167 [==============================] - 30s 178ms/step - loss: 0.6763 - accuracy: 0.5689 - precision: 0.5675 - recall: 0.5801\n",
            "Epoch 33/50\n",
            "167/167 [==============================] - 30s 178ms/step - loss: 0.6757 - accuracy: 0.5800 - precision: 0.5810 - recall: 0.5744\n",
            "Epoch 34/50\n",
            "167/167 [==============================] - 29s 174ms/step - loss: 0.6765 - accuracy: 0.5757 - precision: 0.5734 - recall: 0.5917\n",
            "Epoch 35/50\n",
            "167/167 [==============================] - 29s 175ms/step - loss: 0.6761 - accuracy: 0.5760 - precision: 0.5754 - recall: 0.5808\n",
            "Epoch 36/50\n",
            "167/167 [==============================] - 30s 178ms/step - loss: 0.6737 - accuracy: 0.5792 - precision: 0.5786 - recall: 0.5842\n",
            "Epoch 37/50\n",
            "167/167 [==============================] - 30s 178ms/step - loss: 0.6752 - accuracy: 0.5824 - precision: 0.5814 - recall: 0.5895\n",
            "Epoch 38/50\n",
            "167/167 [==============================] - 29s 176ms/step - loss: 0.6762 - accuracy: 0.5695 - precision: 0.5682 - recall: 0.5793\n",
            "Epoch 39/50\n",
            "167/167 [==============================] - 29s 173ms/step - loss: 0.6748 - accuracy: 0.5854 - precision: 0.5831 - recall: 0.6004\n",
            "Epoch 40/50\n",
            "167/167 [==============================] - 29s 175ms/step - loss: 0.6743 - accuracy: 0.5806 - precision: 0.5809 - recall: 0.5789\n",
            "Epoch 41/50\n",
            "167/167 [==============================] - 33s 194ms/step - loss: 0.6740 - accuracy: 0.5858 - precision: 0.5869 - recall: 0.5801\n",
            "Epoch 42/50\n",
            "167/167 [==============================] - 29s 173ms/step - loss: 0.6760 - accuracy: 0.5802 - precision: 0.5775 - recall: 0.5981\n",
            "Epoch 43/50\n",
            "167/167 [==============================] - 30s 178ms/step - loss: 0.6759 - accuracy: 0.5802 - precision: 0.5813 - recall: 0.5741\n",
            "Epoch 44/50\n",
            "167/167 [==============================] - 31s 183ms/step - loss: 0.6747 - accuracy: 0.5841 - precision: 0.5827 - recall: 0.5932\n",
            "Epoch 45/50\n",
            "167/167 [==============================] - 29s 171ms/step - loss: 0.6742 - accuracy: 0.5787 - precision: 0.5797 - recall: 0.5726\n",
            "Epoch 46/50\n",
            "167/167 [==============================] - 30s 181ms/step - loss: 0.6779 - accuracy: 0.5749 - precision: 0.5754 - recall: 0.5726\n",
            "Epoch 47/50\n",
            "167/167 [==============================] - 29s 171ms/step - loss: 0.6751 - accuracy: 0.5774 - precision: 0.5768 - recall: 0.5816\n",
            "Epoch 48/50\n",
            "167/167 [==============================] - 29s 176ms/step - loss: 0.6763 - accuracy: 0.5796 - precision: 0.5768 - recall: 0.5985\n",
            "Epoch 49/50\n",
            "167/167 [==============================] - 29s 175ms/step - loss: 0.6751 - accuracy: 0.5777 - precision: 0.5800 - recall: 0.5639\n",
            "Epoch 50/50\n",
            "167/167 [==============================] - 29s 173ms/step - loss: 0.6751 - accuracy: 0.5736 - precision: 0.5716 - recall: 0.5883\n"
          ]
        },
        {
          "data": {
            "text/plain": [
              "<keras.callbacks.History at 0x7f38db96da80>"
            ]
          },
          "execution_count": 163,
          "metadata": {},
          "output_type": "execute_result"
        }
      ],
      "source": [
        "model.fit(X_train, y_train, epochs=50)"
      ]
    },
    {
      "cell_type": "code",
      "execution_count": null,
      "metadata": {
        "colab": {
          "background_save": true
        },
        "id": "eBwplsvCS7PB",
        "outputId": "1a0d9b0b-961e-4b13-b35f-f259d25f8501"
      },
      "outputs": [
        {
          "name": "stdout",
          "output_type": "stream",
          "text": [
            "56/56 [==============================] - 11s 178ms/step - loss: 0.6744 - accuracy: 0.5809 - precision: 0.5795 - recall: 0.5880\n"
          ]
        },
        {
          "data": {
            "text/plain": [
              "[0.67439204454422, 0.5809362530708313, 0.57953280210495, 0.5880361199378967]"
            ]
          },
          "execution_count": 164,
          "metadata": {},
          "output_type": "execute_result"
        }
      ],
      "source": [
        "model.evaluate(X_test, y_test)"
      ]
    }
  ],
  "metadata": {
    "colab": {
      "provenance": []
    },
    "kernelspec": {
      "display_name": "Python 3",
      "name": "python3"
    },
    "language_info": {
      "name": "python"
    },
    "widgets": {
      "application/vnd.jupyter.widget-state+json": {
        "097b09cb411b4381b78f4d65c88092bb": {
          "model_module": "@jupyter-widgets/base",
          "model_module_version": "1.2.0",
          "model_name": "LayoutModel",
          "state": {
            "_model_module": "@jupyter-widgets/base",
            "_model_module_version": "1.2.0",
            "_model_name": "LayoutModel",
            "_view_count": null,
            "_view_module": "@jupyter-widgets/base",
            "_view_module_version": "1.2.0",
            "_view_name": "LayoutView",
            "align_content": null,
            "align_items": null,
            "align_self": null,
            "border": null,
            "bottom": null,
            "display": null,
            "flex": null,
            "flex_flow": null,
            "grid_area": null,
            "grid_auto_columns": null,
            "grid_auto_flow": null,
            "grid_auto_rows": null,
            "grid_column": null,
            "grid_gap": null,
            "grid_row": null,
            "grid_template_areas": null,
            "grid_template_columns": null,
            "grid_template_rows": null,
            "height": null,
            "justify_content": null,
            "justify_items": null,
            "left": null,
            "margin": null,
            "max_height": null,
            "max_width": null,
            "min_height": null,
            "min_width": null,
            "object_fit": null,
            "object_position": null,
            "order": null,
            "overflow": null,
            "overflow_x": null,
            "overflow_y": null,
            "padding": null,
            "right": null,
            "top": null,
            "visibility": null,
            "width": null
          }
        },
        "1ce9e1e56ef54cd0abffbe8e1365df46": {
          "model_module": "@jupyter-widgets/base",
          "model_module_version": "1.2.0",
          "model_name": "LayoutModel",
          "state": {
            "_model_module": "@jupyter-widgets/base",
            "_model_module_version": "1.2.0",
            "_model_name": "LayoutModel",
            "_view_count": null,
            "_view_module": "@jupyter-widgets/base",
            "_view_module_version": "1.2.0",
            "_view_name": "LayoutView",
            "align_content": null,
            "align_items": null,
            "align_self": null,
            "border": null,
            "bottom": null,
            "display": null,
            "flex": null,
            "flex_flow": null,
            "grid_area": null,
            "grid_auto_columns": null,
            "grid_auto_flow": null,
            "grid_auto_rows": null,
            "grid_column": null,
            "grid_gap": null,
            "grid_row": null,
            "grid_template_areas": null,
            "grid_template_columns": null,
            "grid_template_rows": null,
            "height": null,
            "justify_content": null,
            "justify_items": null,
            "left": null,
            "margin": null,
            "max_height": null,
            "max_width": null,
            "min_height": null,
            "min_width": null,
            "object_fit": null,
            "object_position": null,
            "order": null,
            "overflow": null,
            "overflow_x": null,
            "overflow_y": null,
            "padding": null,
            "right": null,
            "top": null,
            "visibility": null,
            "width": null
          }
        },
        "58c87683da7a486abd3ddc779826e8f1": {
          "model_module": "@jupyter-widgets/controls",
          "model_module_version": "1.5.0",
          "model_name": "FloatProgressModel",
          "state": {
            "_dom_classes": [],
            "_model_module": "@jupyter-widgets/controls",
            "_model_module_version": "1.5.0",
            "_model_name": "FloatProgressModel",
            "_view_count": null,
            "_view_module": "@jupyter-widgets/controls",
            "_view_module_version": "1.5.0",
            "_view_name": "ProgressView",
            "bar_style": "success",
            "description": "",
            "description_tooltip": null,
            "layout": "IPY_MODEL_097b09cb411b4381b78f4d65c88092bb",
            "max": 1,
            "min": 0,
            "orientation": "horizontal",
            "style": "IPY_MODEL_fb55dd236fba44b8a88c87e65b471a09",
            "value": 1
          }
        },
        "793a79e6620a463fadef3057b1f2819c": {
          "model_module": "@jupyter-widgets/controls",
          "model_module_version": "1.5.0",
          "model_name": "HTMLModel",
          "state": {
            "_dom_classes": [],
            "_model_module": "@jupyter-widgets/controls",
            "_model_module_version": "1.5.0",
            "_model_name": "HTMLModel",
            "_view_count": null,
            "_view_module": "@jupyter-widgets/controls",
            "_view_module_version": "1.5.0",
            "_view_name": "HTMLView",
            "description": "",
            "description_tooltip": null,
            "layout": "IPY_MODEL_1ce9e1e56ef54cd0abffbe8e1365df46",
            "placeholder": "​",
            "style": "IPY_MODEL_bc3d8cb7a5ba45dc850cc2b25ad5bcd0",
            "value": " 1/1 [00:00&lt;00:00, 21.18it/s]"
          }
        },
        "7d7aed342cee4d899b334db066722380": {
          "model_module": "@jupyter-widgets/base",
          "model_module_version": "1.2.0",
          "model_name": "LayoutModel",
          "state": {
            "_model_module": "@jupyter-widgets/base",
            "_model_module_version": "1.2.0",
            "_model_name": "LayoutModel",
            "_view_count": null,
            "_view_module": "@jupyter-widgets/base",
            "_view_module_version": "1.2.0",
            "_view_name": "LayoutView",
            "align_content": null,
            "align_items": null,
            "align_self": null,
            "border": null,
            "bottom": null,
            "display": null,
            "flex": null,
            "flex_flow": null,
            "grid_area": null,
            "grid_auto_columns": null,
            "grid_auto_flow": null,
            "grid_auto_rows": null,
            "grid_column": null,
            "grid_gap": null,
            "grid_row": null,
            "grid_template_areas": null,
            "grid_template_columns": null,
            "grid_template_rows": null,
            "height": null,
            "justify_content": null,
            "justify_items": null,
            "left": null,
            "margin": null,
            "max_height": null,
            "max_width": null,
            "min_height": null,
            "min_width": null,
            "object_fit": null,
            "object_position": null,
            "order": null,
            "overflow": null,
            "overflow_x": null,
            "overflow_y": null,
            "padding": null,
            "right": null,
            "top": null,
            "visibility": null,
            "width": null
          }
        },
        "8505807f7635458d8e50a705085a7445": {
          "model_module": "@jupyter-widgets/base",
          "model_module_version": "1.2.0",
          "model_name": "LayoutModel",
          "state": {
            "_model_module": "@jupyter-widgets/base",
            "_model_module_version": "1.2.0",
            "_model_name": "LayoutModel",
            "_view_count": null,
            "_view_module": "@jupyter-widgets/base",
            "_view_module_version": "1.2.0",
            "_view_name": "LayoutView",
            "align_content": null,
            "align_items": null,
            "align_self": null,
            "border": null,
            "bottom": null,
            "display": null,
            "flex": null,
            "flex_flow": null,
            "grid_area": null,
            "grid_auto_columns": null,
            "grid_auto_flow": null,
            "grid_auto_rows": null,
            "grid_column": null,
            "grid_gap": null,
            "grid_row": null,
            "grid_template_areas": null,
            "grid_template_columns": null,
            "grid_template_rows": null,
            "height": null,
            "justify_content": null,
            "justify_items": null,
            "left": null,
            "margin": null,
            "max_height": null,
            "max_width": null,
            "min_height": null,
            "min_width": null,
            "object_fit": null,
            "object_position": null,
            "order": null,
            "overflow": null,
            "overflow_x": null,
            "overflow_y": null,
            "padding": null,
            "right": null,
            "top": null,
            "visibility": null,
            "width": null
          }
        },
        "8b3fbedf3ac64bd8bc59bf5b41d39d4a": {
          "model_module": "@jupyter-widgets/controls",
          "model_module_version": "1.5.0",
          "model_name": "HBoxModel",
          "state": {
            "_dom_classes": [],
            "_model_module": "@jupyter-widgets/controls",
            "_model_module_version": "1.5.0",
            "_model_name": "HBoxModel",
            "_view_count": null,
            "_view_module": "@jupyter-widgets/controls",
            "_view_module_version": "1.5.0",
            "_view_name": "HBoxView",
            "box_style": "",
            "children": [
              "IPY_MODEL_c87d2d43fa9d4616a01536c486dd2906",
              "IPY_MODEL_58c87683da7a486abd3ddc779826e8f1",
              "IPY_MODEL_793a79e6620a463fadef3057b1f2819c"
            ],
            "layout": "IPY_MODEL_7d7aed342cee4d899b334db066722380"
          }
        },
        "8be03e4cb2a74aec83075dca43577367": {
          "model_module": "@jupyter-widgets/controls",
          "model_module_version": "1.5.0",
          "model_name": "DescriptionStyleModel",
          "state": {
            "_model_module": "@jupyter-widgets/controls",
            "_model_module_version": "1.5.0",
            "_model_name": "DescriptionStyleModel",
            "_view_count": null,
            "_view_module": "@jupyter-widgets/base",
            "_view_module_version": "1.2.0",
            "_view_name": "StyleView",
            "description_width": ""
          }
        },
        "bc3d8cb7a5ba45dc850cc2b25ad5bcd0": {
          "model_module": "@jupyter-widgets/controls",
          "model_module_version": "1.5.0",
          "model_name": "DescriptionStyleModel",
          "state": {
            "_model_module": "@jupyter-widgets/controls",
            "_model_module_version": "1.5.0",
            "_model_name": "DescriptionStyleModel",
            "_view_count": null,
            "_view_module": "@jupyter-widgets/base",
            "_view_module_version": "1.2.0",
            "_view_name": "StyleView",
            "description_width": ""
          }
        },
        "c87d2d43fa9d4616a01536c486dd2906": {
          "model_module": "@jupyter-widgets/controls",
          "model_module_version": "1.5.0",
          "model_name": "HTMLModel",
          "state": {
            "_dom_classes": [],
            "_model_module": "@jupyter-widgets/controls",
            "_model_module_version": "1.5.0",
            "_model_name": "HTMLModel",
            "_view_count": null,
            "_view_module": "@jupyter-widgets/controls",
            "_view_module_version": "1.5.0",
            "_view_name": "HTMLView",
            "description": "",
            "description_tooltip": null,
            "layout": "IPY_MODEL_8505807f7635458d8e50a705085a7445",
            "placeholder": "​",
            "style": "IPY_MODEL_8be03e4cb2a74aec83075dca43577367",
            "value": "100%"
          }
        },
        "fb55dd236fba44b8a88c87e65b471a09": {
          "model_module": "@jupyter-widgets/controls",
          "model_module_version": "1.5.0",
          "model_name": "ProgressStyleModel",
          "state": {
            "_model_module": "@jupyter-widgets/controls",
            "_model_module_version": "1.5.0",
            "_model_name": "ProgressStyleModel",
            "_view_count": null,
            "_view_module": "@jupyter-widgets/base",
            "_view_module_version": "1.2.0",
            "_view_name": "StyleView",
            "bar_color": null,
            "description_width": ""
          }
        }
      }
    }
  },
  "nbformat": 4,
  "nbformat_minor": 0
}